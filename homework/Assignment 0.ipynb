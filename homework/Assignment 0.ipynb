{
 "cells": [
  {
   "cell_type": "code",
   "execution_count": 18,
   "metadata": {},
   "outputs": [],
   "source": [
    "def add(a, b):\n",
    "    if isinstance(a, (int, float, str, list)) and isinstance(b, (int, float, str, list)):\n",
    "        if isinstance(a, (int, float)) and isinstance(b, (int, float)):\n",
    "            return a + b\n",
    "        if isinstance(a, list) and isinstance(b, list):\n",
    "            return a + b\n",
    "        else:\n",
    "            return str(a) + str(b)\n",
    "    else:\n",
    "        print(\"Error!\")\n",
    "        return None\n",
    "        "
   ]
  },
  {
   "cell_type": "code",
   "execution_count": 20,
   "metadata": {},
   "outputs": [
    {
     "name": "stdout",
     "output_type": "stream",
     "text": [
      "123abc\n",
      "7.5\n"
     ]
    }
   ],
   "source": [
    "print(add(123, 'abc'))\n",
    "print(add(4.5, 3))"
   ]
  },
  {
   "cell_type": "code",
   "execution_count": 1,
   "metadata": {},
   "outputs": [],
   "source": [
    "def calcMyGrade(assignmentScores, midtermScores, practicumScores, weights):\n",
    "    return (sum(assignmentScores)/len(assignmentScores) * weights[0] \\\n",
    "            + sum(midtermScores)/len(midtermScores) * weights[1] \\\n",
    "            + sum(practicumScores)/len(practicumScores) * weights[2]) / 100"
   ]
  },
  {
   "cell_type": "code",
   "execution_count": 2,
   "metadata": {},
   "outputs": [
    {
     "data": {
      "text/plain": [
       "91.0"
      ]
     },
     "execution_count": 2,
     "metadata": {},
     "output_type": "execute_result"
    }
   ],
   "source": [
    "calcMyGrade([80,70,90], [70,80], [100], [0.2,0.2,0.6])"
   ]
  },
  {
   "cell_type": "code",
   "execution_count": 3,
   "metadata": {},
   "outputs": [],
   "source": [
    "class Node:\n",
    "    def __init__(self, key, value):\n",
    "        if isinstance(key, int):\n",
    "            self.key = key\n",
    "        else:\n",
    "            raise ValueError(\"key must be an int\")\n",
    "        self.value = value\n",
    "        self.leftchild = None\n",
    "        self.rightchild = None\n",
    "        self.parent = None\n",
    "    def getChildren(self):\n",
    "        return [self.leftchild, self.rightchild]\n",
    "    def getKey(self):\n",
    "        return self.key\n",
    "    "
   ]
  },
  {
   "cell_type": "code",
   "execution_count": 6,
   "metadata": {},
   "outputs": [
    {
     "data": {
      "text/plain": [
       "[None, None]"
      ]
     },
     "execution_count": 6,
     "metadata": {},
     "output_type": "execute_result"
    }
   ],
   "source": [
    "n = Node(17,1)\n",
    "n.getKey()\n",
    "n.getChildren()"
   ]
  },
  {
   "cell_type": "code",
   "execution_count": 15,
   "metadata": {},
   "outputs": [],
   "source": [
    "class Queue:\n",
    "    def __init__(self):\n",
    "        self.queue = []\n",
    "    def push(self, integer):\n",
    "        self.queue.append(integer)\n",
    "    def pop(self):\n",
    "        del self.queue[-1]\n",
    "    def checkSize(self):\n",
    "        return len(self.queue)\n",
    "        "
   ]
  },
  {
   "cell_type": "code",
   "execution_count": 16,
   "metadata": {},
   "outputs": [],
   "source": [
    "q = Queue()\n",
    "q.push(3)\n",
    "q.push(6)\n",
    "q.push(9)"
   ]
  },
  {
   "cell_type": "code",
   "execution_count": null,
   "metadata": {},
   "outputs": [],
   "source": [
    "import numpy as np\n",
    "def generateMatrix(r,c,min_val,max_val):\n",
    "     np.random.seed(0)\n",
    "     #your code below\n",
    "     return np.random.randint(min_val, max_val, (r,c))"
   ]
  },
  {
   "cell_type": "code",
   "execution_count": null,
   "metadata": {},
   "outputs": [],
   "source": [
    "import numpy as np\n",
    "def multiplyMat(a,b):\n",
    "    try:\n",
    "        return np.matmul(a,b)\n",
    "    except ValueError:\n",
    "        print(\"Incompatible Matrices\")"
   ]
  },
  {
   "cell_type": "code",
   "execution_count": null,
   "metadata": {},
   "outputs": [],
   "source": [
    "import numpy as np\n",
    "from scipy.stats import pearsonr,spearmanr\n",
    "def statsTuple(a,b):\n",
    "    return (np.sum(a), np.mean(a), np.min(a), np.max(a), \\\n",
    "           np.sum(b), np.mean(b), np.min(b), np.max(b), \\\n",
    "           pearsonr(a,b)[0], spearmanr(a,b)[0])"
   ]
  },
  {
   "cell_type": "code",
   "execution_count": null,
   "metadata": {},
   "outputs": [],
   "source": [
    "import pandas as pd\n",
    "def pandas_func(file_name):\n",
    "    df = pd.read_csv(file_name, delimiter='\\t')\n",
    "    return list(df.mean(axis=0).round(2)), list(df.select_dtypes(exclude=['number']).columns.values)"
   ]
  }
 ],
 "metadata": {
  "kernelspec": {
   "display_name": "Python 3",
   "language": "python",
   "name": "python3"
  },
  "language_info": {
   "codemirror_mode": {
    "name": "ipython",
    "version": 3
   },
   "file_extension": ".py",
   "mimetype": "text/x-python",
   "name": "python",
   "nbconvert_exporter": "python",
   "pygments_lexer": "ipython3",
   "version": "3.7.2"
  }
 },
 "nbformat": 4,
 "nbformat_minor": 2
}
